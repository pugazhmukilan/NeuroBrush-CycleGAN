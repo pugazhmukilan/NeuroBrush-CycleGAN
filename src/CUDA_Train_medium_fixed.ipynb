{
 "cells": [
  {
   "cell_type": "code",
   "execution_count": 1,
   "metadata": {},
   "outputs": [],
   "source": [
    "import torch\n",
    "import torch.nn as nn\n",
    "from torch.utils.data import DataLoader, Dataset\n",
    "from PIL import Image\n",
    "import os\n",
    "import glob\n",
    "import numpy as np\n",
    "import torchvision.transforms as transforms\n",
    "import matplotlib.pyplot as plt"
   ]
  },
  {
   "cell_type": "code",
   "execution_count": 2,
   "metadata": {},
   "outputs": [],
   "source": [
    "torch.backends.cudnn.benchmark = True\n",
    "device = torch.device(\"cuda\" if torch.cuda.is_available() else \"cpu\")"
   ]
  },
  {
   "cell_type": "code",
   "execution_count": 3,
   "metadata": {},
   "outputs": [],
   "source": [
    "# Data Loading\n",
    "class ImageDataset(Dataset):\n",
    "    def __init__(self, photo_dir, monet_dir, transform=None):\n",
    "        self.photo_images = sorted(glob.glob(os.path.join(photo_dir, '*.jpg')))\n",
    "        self.monet_images = sorted(glob.glob(os.path.join(monet_dir, '*.jpg')))\n",
    "        self.transform = transform\n",
    "\n",
    "    def __len__(self):\n",
    "        return len(self.photo_images)\n",
    "\n",
    "    def __getitem__(self, idx):\n",
    "        photo_img = Image.open(self.photo_images[idx]).convert('RGB')\n",
    "        monet_img = Image.open(self.monet_images[idx % len(self.monet_images)]).convert('RGB')\n",
    "\n",
    "        if self.transform:\n",
    "            Photo_img = self.transform(photo_img)\n",
    "            monet_img = self.transform(monet_img)\n",
    "\n",
    "        return photo_img, monet_img\n",
    "\n",
    "transform = transforms.Compose([\n",
    "    transforms.Resize((256, 256)),\n",
    "    transforms.ToTensor(),\n",
    "    transforms.Normalize(mean=[0.5, 0.5, 0.5], std=[0.5, 0.5, 0.5])\n",
    "])"
   ]
  },
  {
   "cell_type": "code",
   "execution_count": 4,
   "metadata": {},
   "outputs": [],
   "source": [
    "# Create dataset\n",
    "photo_ds_path = r'cleandata\\augmented_content'\n",
    "monet_ds_path = r'cleandata\\augmented_monet'\n",
    "dataset = ImageDataset(photo_ds_path, monet_ds_path, transform)\n",
    "dataloader = DataLoader(dataset, batch_size=1, shuffle=True,num_workers=4)"
   ]
  },
  {
   "cell_type": "code",
   "execution_count": 5,
   "metadata": {},
   "outputs": [],
   "source": [
    "class Generator(nn.Module):\n",
    "    def __init__(self):\n",
    "        super(Generator, self).__init__()\n",
    "        self.main = nn.Sequential(\n",
    "            nn.Conv2d(3, 64, 7, stride=1, padding=3),\n",
    "            nn.LeakyReLU(),\n",
    "            nn.Conv2d(64, 128, 3, stride=2, padding=1),\n",
    "            nn.LeakyReLU(),\n",
    "            nn.Conv2d(128, 256, 3, stride=2, padding=1),\n",
    "            nn.LeakyReLU(),\n",
    "            nn.ConvTranspose2d(256, 128, 3, stride=2, padding=1, output_padding=1),\n",
    "            nn.LeakyReLU(),\n",
    "            nn.ConvTranspose2d(128, 64, 3, stride=2, padding=1, output_padding=1),\n",
    "            nn.LeakyReLU(),\n",
    "            nn.Conv2d(64, 3, 7, stride=1, padding=3),\n",
    "            nn.Tanh()\n",
    "        )\n",
    "\n",
    "    def forward(self, x):\n",
    "        return self.main(x)"
   ]
  },
  {
   "cell_type": "code",
   "execution_count": 6,
   "metadata": {},
   "outputs": [],
   "source": [
    "class Discriminator(nn.Module):\n",
    "    def __init__(self):\n",
    "        super(Discriminator, self).__init__()\n",
    "        self.main = nn.Sequential(\n",
    "            nn.Conv2d(3, 64, 4, stride=2, padding=1),\n",
    "            nn.LeakyReLU(),\n",
    "            nn.Conv2d(64, 128, 4, stride=2, padding=1),\n",
    "            nn.LeakyReLU(),\n",
    "            nn.Conv2d(128, 256, 4, stride=2, padding=1),\n",
    "            nn.LeakyReLU(),\n",
    "            nn.Conv2d(256, 1, 4, stride=1, padding=1)\n",
    "        )\n",
    "\n",
    "    def forward(self, x):\n",
    "        return self.main(x)"
   ]
  },
  {
   "cell_type": "code",
   "execution_count": null,
   "metadata": {},
   "outputs": [],
   "source": []
  },
  {
   "cell_type": "code",
   "execution_count": 7,
   "metadata": {},
   "outputs": [],
   "source": [
    "# Initialize Models\n",
    "monet_generator = Generator().to(device)\n",
    "photo_generator = Generator().to(device)\n",
    "monet_discriminator = Discriminator().to(device)\n",
    "photo_discriminator = Discriminator().to(device)"
   ]
  },
  {
   "cell_type": "code",
   "execution_count": 8,
   "metadata": {},
   "outputs": [],
   "source": [
    "# Loss Functions and Optimizers\n",
    "criterion = nn.MSELoss()\n",
    "optimizer_G = torch.optim.Adam(list(monet_generator.parameters()) + list(photo_generator.parameters()), lr=2e-4, betas=(0.5, 0.999))\n",
    "optimizer_D = torch.optim.Adam(list(monet_discriminator.parameters()) + list(photo_discriminator.parameters()), lr=2e-4, betas=(0.5, 0.999))"
   ]
  },
  {
   "cell_type": "code",
   "execution_count": 9,
   "metadata": {},
   "outputs": [],
   "source": [
    "import torch\n",
    "from tqdm import tqdm\n",
    "import os\n",
    "\n",
    "# Training Loop\n",
    "def train(dataloader, epochs):\n",
    "    best_loss_G = float('inf')  # Track best generator loss\n",
    "    save_dir = \"models\"\n",
    "    os.makedirs(save_dir, exist_ok=True)\n",
    "\n",
    "    for epoch in range(epochs):\n",
    "        print(f\"\\nEpoch [{epoch+1}/{epochs}]\")\n",
    "        progress_bar = tqdm(dataloader, desc=f\"Epoch {epoch+1}\", leave=True)\n",
    "\n",
    "        for real_photo, real_monet in progress_bar:\n",
    "            real_photo, real_monet = real_photo.to(device), real_monet.to(device)\n",
    "\n",
    "            # Train generators\n",
    "            fake_monet = monet_generator(real_photo)\n",
    "            fake_photo = photo_generator(real_monet)\n",
    "\n",
    "            loss_G = criterion(monet_discriminator(fake_monet), torch.ones_like(monet_discriminator(fake_monet))) + \\\n",
    "                     criterion(photo_discriminator(fake_photo), torch.ones_like(photo_discriminator(fake_photo)))\n",
    "\n",
    "            optimizer_G.zero_grad()\n",
    "            loss_G.backward()\n",
    "            optimizer_G.step()\n",
    "\n",
    "            # Train discriminators\n",
    "            loss_D_monet = criterion(monet_discriminator(real_monet), torch.ones_like(monet_discriminator(real_monet))) + \\\n",
    "                           criterion(monet_discriminator(fake_monet.detach()), torch.zeros_like(monet_discriminator(fake_monet)))\n",
    "\n",
    "            loss_D_photo = criterion(photo_discriminator(real_photo), torch.ones_like(photo_discriminator(real_photo))) + \\\n",
    "                           criterion(photo_discriminator(fake_photo.detach()), torch.zeros_like(photo_discriminator(fake_photo)))\n",
    "\n",
    "            optimizer_D.zero_grad()\n",
    "            (loss_D_monet + loss_D_photo).backward()\n",
    "            optimizer_D.step()\n",
    "\n",
    "            # **Ensure loss values are computed before updating tqdm**\n",
    "            loss_G_val = loss_G.item()\n",
    "            loss_D_val = (loss_D_monet + loss_D_photo).item()\n",
    "\n",
    "            # Update tqdm progress bar dynamically\n",
    "            progress_bar.set_postfix({\n",
    "                'Loss_G': f\"{loss_G_val:.4f}\",\n",
    "                'Loss_D': f\"{loss_D_val:.4f}\"\n",
    "            })\n",
    "            progress_bar.refresh()  # Force update\n",
    "\n",
    "        # Save best-performing generator\n",
    "        if loss_G_val < best_loss_G:\n",
    "            best_loss_G = loss_G_val\n",
    "            torch.save(monet_generator, os.path.join(save_dir, \"best_monet_generator_medium.pth\"))\n",
    "            torch.save(photo_generator, os.path.join(save_dir, \"best_photo_generator_medium.pth\"))\n",
    "            print(f\"Best model saved at Epoch {epoch+1} with Loss_G: {best_loss_G:.4f}\")\n",
    "\n",
    "        print(f\"Epoch [{epoch+1}/{epochs}] completed: Loss_G={loss_G_val:.4f}, Loss_D={loss_D_val:.4f}\")\n",
    "\n",
    "    # Save final models after training\n",
    "    torch.save(monet_generator, os.path.join(save_dir, \"final_monet_generator_medium.pth\"))\n",
    "    torch.save(photo_generator, os.path.join(save_dir, \"final_photo_generator_medium.pth\"))\n",
    "    print(\"\\nTraining complete! Final models saved.\")\n"
   ]
  },
  {
   "cell_type": "code",
   "execution_count": null,
   "metadata": {},
   "outputs": [
    {
     "name": "stdout",
     "output_type": "stream",
     "text": [
      "\n",
      "Epoch [1/5]\n"
     ]
    },
    {
     "name": "stderr",
     "output_type": "stream",
     "text": [
      "Epoch 1:   0%|          | 0/1634 [00:00<?, ?it/s]"
     ]
    }
   ],
   "source": [
    "# Train model\n",
    "train(dataloader, epochs=5)"
   ]
  }
 ],
 "metadata": {
  "kernelspec": {
   "display_name": "Python 3",
   "language": "python",
   "name": "python3"
  },
  "language_info": {
   "codemirror_mode": {
    "name": "ipython",
    "version": 3
   },
   "file_extension": ".py",
   "mimetype": "text/x-python",
   "name": "python",
   "nbconvert_exporter": "python",
   "pygments_lexer": "ipython3",
   "version": "3.10.10"
  }
 },
 "nbformat": 4,
 "nbformat_minor": 2
}
